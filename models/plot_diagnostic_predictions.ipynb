{
 "cells": [
  {
   "cell_type": "code",
   "execution_count": null,
   "metadata": {},
   "outputs": [],
   "source": [
    "from processing_arithmetics.arithmetics.treebanks import treebank\n",
    "from processing_arithmetics.arithmetics.MathExpression import MathExpression\n",
    "from processing_arithmetics.arithmetics.MathTreebank import MathTreebank\n",
    "from processing_arithmetics.sequential.architectures import DiagnosticClassifier\n",
    "import numpy as np\n",
    "import pandas as pd\n",
    "from plotnine import *\n",
    "import plotnine\n"
   ]
  },
  {
   "cell_type": "code",
   "execution_count": null,
   "metadata": {},
   "outputs": [],
   "source": [
    "basename = \"2018-10-11T11+02:00\"\n",
    "digits = np.arange(-10,11)\n",
    "operators = ['+', '-']\n",
    "#classifiers = \"subtracting intermediate_locally intermediate_recursively grammatical depth minus1depth minus2depth minus3depth minus4depth minus1depth_count switch_mode\".split()\n",
    "classifiers = \"intermediate_locally intermediate_recursively\".split()\n",
    "arch1 = DiagnosticClassifier(digits=digits,\n",
    "                             operators=operators,\n",
    "                             classifiers=classifiers)\n",
    "arch1.add_pretrained_model(model=\"./diagnoses/ScalarPrediction_GRU_infix_{}_10_dc8.h5\".format(basename))\n",
    "arch1.model.compile(loss=arch1.loss_functions, \n",
    "                    optimizer='adam',\n",
    "                    metrics=arch1.metrics,\n",
    "                    loss_weights=arch1.loss_weights)\n",
    "\n",
    "arch2 = DiagnosticClassifier(digits=digits,\n",
    "                         operators=operators,\n",
    "                         classifiers=classifiers)\n",
    "arch2.add_pretrained_model(model=\"./diagnoses/ScalarPrediction_GRU_infix_{}_16_dc8.h5\".format(basename))\n",
    "arch2.model.compile(loss=arch2.loss_functions,\n",
    "                    optimizer='adam',\n",
    "                    metrics=arch2.metrics,\n",
    "                    loss_weights=arch2.loss_weights)\n"
   ]
  },
  {
   "cell_type": "code",
   "execution_count": null,
   "metadata": {},
   "outputs": [],
   "source": [
    "#tb = treebank(seed=0, kind='test', debug=True)\n",
    "#tb = dict(tb)\n",
    "#tb = MathTreebank({L:5 for L in ['L1','L2','L3', 'L4','L5','L6','L7', 'L8', 'L9']}, digits=digits)\n",
    "tb = MathTreebank({L:5 for L in ['L3']}, digits=digits)"
   ]
  },
  {
   "cell_type": "code",
   "execution_count": null,
   "metadata": {},
   "outputs": [],
   "source": [
    "for example in tb.examples:\n",
    "    display(example[0])"
   ]
  },
  {
   "cell_type": "code",
   "execution_count": null,
   "metadata": {},
   "outputs": [],
   "source": [
    "#tb.examples = []\n",
    "#tb.add_example_from_string('( 7 - ( 4 - 3 )  )')\n",
    "data = arch1.generate_test_data(tb, digits=digits)\n",
    "results = {}\n",
    "for name, X, Y in data:\n",
    "    results[name] = {}\n",
    "    for n, arch in [(\"10\", arch1), (\"16\", arch2)]:\n",
    "        result = np.array(arch.model.predict(X))\n",
    "        result = result.reshape(*result.shape[:-1])\n",
    "        results[name][n] = result\n",
    "        #print \"MODEL: \", n\n",
    "        #print \"\\texpected:\"\n",
    "        #for k,v in Y.items():\n",
    "        #    print \"\\t\\t\", k, v.shape\n",
    "        #print \"\\tresult:\", result.shape"
   ]
  },
  {
   "cell_type": "code",
   "execution_count": null,
   "metadata": {},
   "outputs": [],
   "source": [
    "results = results['test treebank']"
   ]
  },
  {
   "cell_type": "code",
   "execution_count": null,
   "metadata": {},
   "outputs": [],
   "source": [
    "plot_data = []\n",
    "for model in results:\n",
    "    model_results = results[model]\n",
    "    #print model, model_results.shape\n",
    "    for n, example in enumerate(tb.examples):\n",
    "        #display(example[0])\n",
    "        seq_len = len(list(example[0].iterate('infix')))\n",
    "        for i, classifier in enumerate(classifiers):      \n",
    "            #print i, classifier\n",
    "            #print model_results[i, n, -seq_len:]\n",
    "            #print data[0][2][classifier][n,-seq_len:,0]\n",
    "            plot_data.append(pd.DataFrame({\n",
    "                'model': model,\n",
    "                'example': n,\n",
    "                'classifier': classifier,\n",
    "                'prediction': model_results[i, n, -seq_len:],\n",
    "                'expected': data[0][2][classifier][n,-seq_len:,0],\n",
    "            }).reset_index())\n",
    "plot_df = pd.concat(plot_data).reset_index(drop=True)"
   ]
  },
  {
   "cell_type": "code",
   "execution_count": null,
   "metadata": {},
   "outputs": [],
   "source": [
    "plot_df = plot_df.melt(id_vars=['index', 'classifier', 'example', 'model'], value_vars=['expected', 'prediction'])\n",
    "plot_df = plot_df[plot_df['model'] == \"10\"]\n",
    "display(plot_df)"
   ]
  },
  {
   "cell_type": "code",
   "execution_count": null,
   "metadata": {},
   "outputs": [],
   "source": [
    "plotnine.options.figure_size = (12,len(tb.examples) * 2)\n",
    "ggplot(plot_df, aes(x=\"index\", y=\"value\")) + \\\n",
    "    geom_step(aes(linetype=\"variable\")) + \\\n",
    "    facet_grid(\"example~classifier\")"
   ]
  },
  {
   "cell_type": "code",
   "execution_count": null,
   "metadata": {},
   "outputs": [],
   "source": []
  }
 ],
 "metadata": {
  "kernelspec": {
   "display_name": "Python 2",
   "language": "python",
   "name": "python2"
  },
  "language_info": {
   "codemirror_mode": {
    "name": "ipython",
    "version": 2
   },
   "file_extension": ".py",
   "mimetype": "text/x-python",
   "name": "python",
   "nbconvert_exporter": "python",
   "pygments_lexer": "ipython2",
   "version": "2.7.15"
  }
 },
 "nbformat": 4,
 "nbformat_minor": 2
}
