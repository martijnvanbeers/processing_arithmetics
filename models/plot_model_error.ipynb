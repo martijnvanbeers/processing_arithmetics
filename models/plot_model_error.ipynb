{
 "cells": [
  {
   "cell_type": "code",
   "execution_count": null,
   "metadata": {},
   "outputs": [],
   "source": [
    "from processing_arithmetics.arithmetics.treebanks import treebank\n",
    "from processing_arithmetics.arithmetics.MathExpression import MathExpression\n",
    "from processing_arithmetics.arithmetics.MathTreebank import MathTreebank\n",
    "from processing_arithmetics.sequential.architectures import ScalarPrediction\n",
    "import numpy as np\n",
    "import pandas as pd\n",
    "from plotnine import *\n",
    "import plotnine\n"
   ]
  },
  {
   "cell_type": "markdown",
   "metadata": {},
   "source": [
    "# Initialise\n",
    "\n",
    "load the two best trained models"
   ]
  },
  {
   "cell_type": "code",
   "execution_count": null,
   "metadata": {},
   "outputs": [],
   "source": [
    "basename = \"2018-10-11T11+02:00\"\n",
    "digits = np.arange(-10,11)\n",
    "operators = ['+', '-']\n",
    "arch1 = ScalarPrediction(digits=digits, operators=operators)\n",
    "arch1.add_pretrained_model(model=\"./ScalarPrediction_GRU_infix_{}_10.h5\".format(basename))\n",
    "arch1.model.compile(\n",
    "        loss=arch1.loss_functions,\n",
    "        optimizer='adam',\n",
    "        metrics=arch1.metrics,\n",
    "        loss_weights=arch1.loss_weights\n",
    "    )\n",
    "\n",
    "arch2 = ScalarPrediction(digits=digits, operators=operators)\n",
    "arch2.add_pretrained_model(model=\"./ScalarPrediction_GRU_infix_{}_16.h5\".format(basename))\n",
    "arch2.model.compile(\n",
    "        loss=arch2.loss_functions,\n",
    "        optimizer='adam',\n",
    "        metrics=arch2.metrics,\n",
    "        loss_weights=arch2.loss_weights\n",
    "    )\n"
   ]
  },
  {
   "cell_type": "markdown",
   "metadata": {},
   "source": [
    "# Build a set of expressions to evaluate the models on"
   ]
  },
  {
   "cell_type": "code",
   "execution_count": null,
   "metadata": {},
   "outputs": [],
   "source": [
    "#tb = treebank(seed=0, kind='test', debug=True)\n",
    "#tb = dict(tb)\n",
    "tb = MathTreebank({L:1000 for L in ['L1','L2','L3', 'L4','L5','L6','L7', 'L8', 'L9']}, digits=digits)"
   ]
  },
  {
   "cell_type": "code",
   "execution_count": null,
   "metadata": {},
   "outputs": [],
   "source": [
    "tb.examples[4][0]"
   ]
  },
  {
   "cell_type": "code",
   "execution_count": null,
   "metadata": {},
   "outputs": [],
   "source": [
    "data = arch1.generate_test_data(tb, digits=digits)\n",
    "results = []\n",
    "for name, X, Y in data:\n",
    "    for n, arch in [(\"10\", arch1), (\"16\", arch2)]:\n",
    "        result = arch.model.predict(X)\n",
    "        results.append(result)\n",
    "        #print \"MODEL: \", n\n",
    "        #print \"\\texpected:\", Y['output']\n",
    "        #print \"\\tresult:\", result"
   ]
  },
  {
   "cell_type": "code",
   "execution_count": null,
   "metadata": {},
   "outputs": [],
   "source": [
    "expression_lengths = []\n",
    "max_minus_depths = []\n",
    "depths = []\n",
    "mode_switches = []\n",
    "for example in tb.examples:\n",
    "    symbols = example[0].iterate('infix')\n",
    "    length = example[0].get_digit_positions(symbols).sum()\n",
    "    for n in xrange(1,10):\n",
    "        try:\n",
    "            count = example[0].get_minus_depths(n).sum()\n",
    "        except KeyError:\n",
    "            break\n",
    "        if count == 0:\n",
    "            break\n",
    "    max_minus_depths.append(n - 1)\n",
    "    expression_lengths.append(length)\n",
    "    depths.append(max(example[0].get_depths()))\n",
    "    mode_list = example[0].get_modes()\n",
    "    mode_switches.append(sum([1 if x != mode_list[n] else 0 for n, x in enumerate(mode_list[1:])]))"
   ]
  },
  {
   "cell_type": "code",
   "execution_count": null,
   "metadata": {
    "scrolled": true
   },
   "outputs": [],
   "source": [
    "plot_df = pd.concat([pd.DataFrame({\n",
    "        'model': 10,\n",
    "        'prediction': results[0].reshape([len(Y['output'])]),\n",
    "        'expected': Y['output'],\n",
    "        'length': expression_lengths,\n",
    "        'minus_depth': max_minus_depths,\n",
    "        'depth': depths,\n",
    "        'mode_switch': mode_switches,\n",
    "    }),pd.DataFrame({\n",
    "        'model': 16,\n",
    "        'prediction': results[1].reshape([len(Y['output'])]),\n",
    "        'expected': Y['output'],\n",
    "        'length': expression_lengths,\n",
    "        'minus_depth': max_minus_depths,\n",
    "        'depth': depths,\n",
    "        'mode_switch': mode_switches,\n",
    "    })])\n",
    "plot_df['delta'] = plot_df['prediction'] - plot_df['expected']\n",
    "plot_df['abs_delta'] = plot_df['delta'].abs()\n",
    "with pd.option_context('max_rows', 2000):\n",
    "    display(plot_df)"
   ]
  },
  {
   "cell_type": "markdown",
   "metadata": {},
   "source": [
    "# Plot the actual expression result against the prediction/error\n",
    "\n",
    "Below are some plots that try to figure out what the model is good and bad at."
   ]
  },
  {
   "cell_type": "code",
   "execution_count": null,
   "metadata": {},
   "outputs": [],
   "source": [
    "plotnine.options.figure_size = (16, 20)\n",
    "ggplot(plot_df, aes(x=\"expected\", y=\"prediction\")) + \\\n",
    "    geom_jitter(aes(color='minus_depth'), size=1, alpha=0.4, width=0, height=0) + \\\n",
    "    facet_wrap(\"~ model\", ncol=1) + \\\n",
    "    theme_minimal() + \\\n",
    "    theme(panel_background=element_rect(fill='#222222'),legend_position=\"top\")"
   ]
  },
  {
   "cell_type": "code",
   "execution_count": null,
   "metadata": {},
   "outputs": [],
   "source": [
    "plotnine.options.figure_size = (16, 20)\n",
    "ggplot(plot_df, aes(x=\"expected\", y=\"abs_delta\")) + \\\n",
    "    geom_jitter(aes(color='minus_depth'), alpha=0.3, width=0.2, height=0) + \\\n",
    "    facet_wrap(\"~ model\", ncol=1) + \\\n",
    "    scale_y_sqrt() + \\\n",
    "    theme_minimal() + \\\n",
    "    theme(panel_background=element_rect(fill='#222222'),legend_position=\"top\")"
   ]
  },
  {
   "cell_type": "code",
   "execution_count": null,
   "metadata": {},
   "outputs": [],
   "source": [
    "plotnine.options.figure_size = (12, 20)\n",
    "ggplot(plot_df, aes(x=\"expected\", y=\"delta\")) + \\\n",
    "    geom_point(aes(color='length'), alpha=0.05) + \\\n",
    "    facet_wrap(\"~ model\", ncol=1) + \\\n",
    "    theme_minimal() + \\\n",
    "    theme(panel_background=element_rect(fill='#222222'),legend_position=\"top\")"
   ]
  },
  {
   "cell_type": "code",
   "execution_count": null,
   "metadata": {},
   "outputs": [],
   "source": [
    "plotnine.options.figure_size = (12, 20)\n",
    "ggplot(plot_df, aes(x=\"expected\", y=\"delta\")) + \\\n",
    "    geom_point(aes(color='depth'), alpha=0.05) + \\\n",
    "    facet_wrap(\"~ model\", ncol=1) + \\\n",
    "    theme_minimal() + \\\n",
    "    theme(panel_background=element_rect(fill='#222222'),legend_position=\"top\")"
   ]
  },
  {
   "cell_type": "code",
   "execution_count": null,
   "metadata": {},
   "outputs": [],
   "source": [
    "plotnine.options.figure_size = (12, 20)\n",
    "ggplot(plot_df, aes(x=\"expected\", y=\"delta\")) + \\\n",
    "    geom_point(aes(color='mode_switch'), alpha=0.05) + \\\n",
    "    facet_wrap(\"~ model\", ncol=1) + \\\n",
    "    theme_minimal() + \\\n",
    "    theme(panel_background=element_rect(fill='#222222'),legend_position=\"top\")"
   ]
  },
  {
   "cell_type": "code",
   "execution_count": null,
   "metadata": {},
   "outputs": [],
   "source": []
  }
 ],
 "metadata": {
  "kernelspec": {
   "display_name": "Python 2",
   "language": "python",
   "name": "python2"
  },
  "language_info": {
   "codemirror_mode": {
    "name": "ipython",
    "version": 2
   },
   "file_extension": ".py",
   "mimetype": "text/x-python",
   "name": "python",
   "nbconvert_exporter": "python",
   "pygments_lexer": "ipython2",
   "version": "2.7.15"
  }
 },
 "nbformat": 4,
 "nbformat_minor": 2
}
