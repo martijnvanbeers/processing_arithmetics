{
 "cells": [
  {
   "cell_type": "code",
   "execution_count": null,
   "metadata": {},
   "outputs": [],
   "source": [
    "from processing_arithmetics.arithmetics.treebanks import treebank\n",
    "from processing_arithmetics.arithmetics.MathExpression import MathExpression\n",
    "from processing_arithmetics.arithmetics.MathTreebank import MathTreebank\n",
    "from processing_arithmetics.sequential.architectures import DiagnosticClassifier\n",
    "import numpy as np\n",
    "import re\n",
    "import pandas as pd\n",
    "from plotnine import *\n",
    "import plotnine\n",
    "import matplotlib\n",
    "from ipywidgets import widgets\n",
    "from IPython.display import clear_output\n"
   ]
  },
  {
   "cell_type": "code",
   "execution_count": null,
   "metadata": {},
   "outputs": [],
   "source": [
    "basename = \"2018-10-11T11+02:00\"\n",
    "digits = np.arange(-10,11)\n",
    "operators = ['+', '-']\n",
    "classifiers = \"subtracting intermediate_locally intermediate_recursively grammatical depth minus1depth minus2depth minus3depth minus4depth minus1depth_count switch_mode\".split()\n",
    "#classifiers = \"intermediate_locally intermediate_recursively\".split()\n",
    "arch1 = DiagnosticClassifier(digits=digits,\n",
    "                             operators=operators,\n",
    "                             classifiers=classifiers)\n",
    "arch1.add_pretrained_model(model=\"./diagnoses/ScalarPrediction_GRU_infix_{}_10_dc8.h5\".format(basename))\n",
    "arch1.model.compile(loss=arch1.loss_functions, \n",
    "                    optimizer='adam',\n",
    "                    metrics=arch1.metrics,\n",
    "                    loss_weights=arch1.loss_weights)\n",
    "\n",
    "arch2 = DiagnosticClassifier(digits=digits,\n",
    "                         operators=operators,\n",
    "                         classifiers=classifiers)\n",
    "arch2.add_pretrained_model(model=\"./diagnoses/ScalarPrediction_GRU_infix_{}_16_dc8.h5\".format(basename))\n",
    "arch2.model.compile(loss=arch2.loss_functions,\n",
    "                    optimizer='adam',\n",
    "                    metrics=arch2.metrics,\n",
    "                    loss_weights=arch2.loss_weights)\n"
   ]
  },
  {
   "cell_type": "code",
   "execution_count": null,
   "metadata": {},
   "outputs": [],
   "source": [
    "def plot_tb(tb, classifier_list):\n",
    "    for example in tb.examples:\n",
    "        display(example[0])\n",
    "\n",
    "    data = arch1.generate_test_data(tb, digits=digits)\n",
    "    results = {}\n",
    "    for name, X, Y in data:\n",
    "        results[name] = {}\n",
    "        for n, arch in [(\"10\", arch1), (\"16\", arch2)]:\n",
    "            result = np.array(arch.model.predict(X))\n",
    "            result = result.reshape(*result.shape[:-1])\n",
    "            results[name][n] = result\n",
    "\n",
    "    results = results['test treebank']\n",
    "\n",
    "    plot_data = []\n",
    "    for model in results:\n",
    "        model_results = results[model]\n",
    "        for n, example in enumerate(tb.examples):\n",
    "            seq_len = len(list(example[0].iterate('infix')))\n",
    "            for i, classifier in enumerate(classifiers):      \n",
    "                plot_data.append(pd.DataFrame({\n",
    "                    'model': model,\n",
    "                    'example': n,\n",
    "                    'classifier': classifier,\n",
    "                    'prediction': model_results[i, n, -seq_len:],\n",
    "                    'expected': data[0][2][classifier][n,-seq_len:,0],\n",
    "                }).reset_index())\n",
    "    plot_df = pd.concat(plot_data).reset_index(drop=True)\n",
    "\n",
    "    plot_df = plot_df.melt(id_vars=['index', 'classifier', 'example', 'model'], value_vars=['expected', 'prediction'])\n",
    "    plot_df = plot_df[plot_df['classifier'].isin(classifier_list)]\n",
    "    plotnine.options.figure_size = (12,3*len(classifier_list))\n",
    "    theplot = ggplot(plot_df, aes(x=\"index\", y=\"value\")) + \\\n",
    "        geom_step(aes(linetype=\"variable\")) + \\\n",
    "        scale_x_continuous(breaks=range(len(list(tb.examples[0][0].iterate('infix')))), labels=list(tb.examples[0][0].iterate('infix'))) + \\\n",
    "        facet_grid(\"classifier~model\", scales=\"free\")\n",
    "    display(theplot)"
   ]
  },
  {
   "cell_type": "markdown",
   "metadata": {},
   "source": [
    "## Plotting trajectories \n",
    "\n",
    "We can not only use diagnostic classifiers to evaluate the overall match with a specific hypotheses, we can also track the fit of our predictions over time, by comparing the trajectories of predicted variables with the trajectories of observed variables while the networks process different sentences. In the cell below, the predictions of the diagnostic classifiers on a sentences you input are depicted, along with their target trajectories as defined by the hypotheses. These trajectories confirm that the curve representing the cumulative strategy is much better predicted than the recursive one."
   ]
  },
  {
   "cell_type": "code",
   "execution_count": null,
   "metadata": {
    "scrolled": false
   },
   "outputs": [],
   "source": [
    "\n",
    "\n",
    "clas = widgets.SelectMultiple(\n",
    "    options=classifiers,\n",
    "    value=['intermediate_locally', 'intermediate_recursively'],\n",
    "    rows=len(classifiers),\n",
    "    description='Classifiers',\n",
    "    disabled=False\n",
    ")\n",
    "text = widgets.Text(description=\"Expression\", placeholder=\"( 1 + (3 - 8 ) )\", disabled=False)\n",
    "vbox = widgets.VBox([clas, text])\n",
    "display(vbox)\n",
    "\n",
    "def handle_submit(foo):\n",
    "    clear_output()\n",
    "    display(vbox)\n",
    "    tb = MathTreebank({}, digits=digits)\n",
    "    raw = text.value\n",
    "    tokens = re.findall(r\"(-?\\d+|\\(|\\)|\\+|\\-)\", raw)\n",
    "    try:\n",
    "        tb.add_example_from_string(\" \".join(tokens))\n",
    "        plot_tb(tb, clas.value)\n",
    "    except ValueError:\n",
    "        print(\"Sorry, that doesn't seem to be a valid expression\")\n",
    "    \n",
    "text.on_submit(handle_submit)"
   ]
  },
  {
   "cell_type": "code",
   "execution_count": null,
   "metadata": {},
   "outputs": [],
   "source": []
  }
 ],
 "metadata": {
  "kernelspec": {
   "display_name": "Python 2",
   "language": "python",
   "name": "python2"
  },
  "language_info": {
   "codemirror_mode": {
    "name": "ipython",
    "version": 2
   },
   "file_extension": ".py",
   "mimetype": "text/x-python",
   "name": "python",
   "nbconvert_exporter": "python",
   "pygments_lexer": "ipython2",
   "version": "2.7.15"
  }
 },
 "nbformat": 4,
 "nbformat_minor": 2
}
